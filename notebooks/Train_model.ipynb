{
 "cells": [
  {
   "cell_type": "markdown",
   "metadata": {},
   "source": [
    "## Выбор и обучене DL-модели"
   ]
  },
  {
   "cell_type": "code",
   "execution_count": 1,
   "metadata": {
    "execution": {
     "iopub.execute_input": "2025-02-06T09:08:47.559338Z",
     "iopub.status.busy": "2025-02-06T09:08:47.559095Z",
     "iopub.status.idle": "2025-02-06T09:08:52.703110Z",
     "shell.execute_reply": "2025-02-06T09:08:52.702058Z",
     "shell.execute_reply.started": "2025-02-06T09:08:47.559314Z"
    }
   },
   "outputs": [],
   "source": [
    "# Импорт необходимых библиотек\n",
    "import torch\n",
    "import torch.nn as nn\n",
    "import torch.optim as optim\n",
    "import torch.nn.functional as F\n",
    "from torch.utils.data import Dataset, DataLoader\n",
    "from sklearn.model_selection import train_test_split\n",
    "from sklearn.preprocessing import StandardScaler, LabelEncoder\n",
    "from sklearn.metrics import classification_report, confusion_matrix\n",
    "import pandas as pd\n",
    "import numpy as np\n",
    "import seaborn as sns\n",
    "import matplotlib.pyplot as plt\n",
    "from collections import Counter"
   ]
  },
  {
   "cell_type": "code",
   "execution_count": 2,
   "metadata": {
    "execution": {
     "iopub.execute_input": "2025-02-06T09:08:52.707495Z",
     "iopub.status.busy": "2025-02-06T09:08:52.707217Z",
     "iopub.status.idle": "2025-02-06T09:08:53.889803Z",
     "shell.execute_reply": "2025-02-06T09:08:53.888607Z",
     "shell.execute_reply.started": "2025-02-06T09:08:52.707471Z"
    }
   },
   "outputs": [
    {
     "data": {
      "text/html": [
       "<div>\n",
       "<style scoped>\n",
       "    .dataframe tbody tr th:only-of-type {\n",
       "        vertical-align: middle;\n",
       "    }\n",
       "\n",
       "    .dataframe tbody tr th {\n",
       "        vertical-align: top;\n",
       "    }\n",
       "\n",
       "    .dataframe thead th {\n",
       "        text-align: right;\n",
       "    }\n",
       "</style>\n",
       "<table border=\"1\" class=\"dataframe\">\n",
       "  <thead>\n",
       "    <tr style=\"text-align: right;\">\n",
       "      <th></th>\n",
       "      <th>tree_dbh</th>\n",
       "      <th>health</th>\n",
       "      <th>curb_loc_OnCurb</th>\n",
       "      <th>steward_3or4</th>\n",
       "      <th>steward_4orMore</th>\n",
       "      <th>steward_No</th>\n",
       "      <th>guards_Helpful</th>\n",
       "      <th>guards_No</th>\n",
       "      <th>guards_Unsure</th>\n",
       "      <th>sidewalk_NoDamage</th>\n",
       "      <th>root_stone_Yes</th>\n",
       "      <th>root_grate_Yes</th>\n",
       "      <th>trunk_wire_Yes</th>\n",
       "      <th>trnk_light_Yes</th>\n",
       "      <th>brch_light_Yes</th>\n",
       "      <th>brch_other_Yes</th>\n",
       "      <th>borough_Brooklyn</th>\n",
       "      <th>borough_Manhattan</th>\n",
       "      <th>borough_Queens</th>\n",
       "      <th>borough_Staten Island</th>\n",
       "    </tr>\n",
       "  </thead>\n",
       "  <tbody>\n",
       "    <tr>\n",
       "      <th>0</th>\n",
       "      <td>0.007059</td>\n",
       "      <td>1</td>\n",
       "      <td>1</td>\n",
       "      <td>0</td>\n",
       "      <td>0</td>\n",
       "      <td>1</td>\n",
       "      <td>0</td>\n",
       "      <td>1</td>\n",
       "      <td>0</td>\n",
       "      <td>1</td>\n",
       "      <td>0</td>\n",
       "      <td>0</td>\n",
       "      <td>0</td>\n",
       "      <td>0</td>\n",
       "      <td>0</td>\n",
       "      <td>0</td>\n",
       "      <td>0</td>\n",
       "      <td>0</td>\n",
       "      <td>1</td>\n",
       "      <td>0</td>\n",
       "    </tr>\n",
       "    <tr>\n",
       "      <th>1</th>\n",
       "      <td>0.049412</td>\n",
       "      <td>1</td>\n",
       "      <td>1</td>\n",
       "      <td>0</td>\n",
       "      <td>0</td>\n",
       "      <td>1</td>\n",
       "      <td>0</td>\n",
       "      <td>1</td>\n",
       "      <td>0</td>\n",
       "      <td>0</td>\n",
       "      <td>1</td>\n",
       "      <td>0</td>\n",
       "      <td>0</td>\n",
       "      <td>0</td>\n",
       "      <td>0</td>\n",
       "      <td>0</td>\n",
       "      <td>0</td>\n",
       "      <td>0</td>\n",
       "      <td>1</td>\n",
       "      <td>0</td>\n",
       "    </tr>\n",
       "    <tr>\n",
       "      <th>2</th>\n",
       "      <td>0.007059</td>\n",
       "      <td>2</td>\n",
       "      <td>1</td>\n",
       "      <td>0</td>\n",
       "      <td>0</td>\n",
       "      <td>0</td>\n",
       "      <td>0</td>\n",
       "      <td>1</td>\n",
       "      <td>0</td>\n",
       "      <td>0</td>\n",
       "      <td>0</td>\n",
       "      <td>0</td>\n",
       "      <td>0</td>\n",
       "      <td>0</td>\n",
       "      <td>0</td>\n",
       "      <td>0</td>\n",
       "      <td>1</td>\n",
       "      <td>0</td>\n",
       "      <td>0</td>\n",
       "      <td>0</td>\n",
       "    </tr>\n",
       "    <tr>\n",
       "      <th>3</th>\n",
       "      <td>0.023529</td>\n",
       "      <td>2</td>\n",
       "      <td>1</td>\n",
       "      <td>0</td>\n",
       "      <td>0</td>\n",
       "      <td>1</td>\n",
       "      <td>0</td>\n",
       "      <td>1</td>\n",
       "      <td>0</td>\n",
       "      <td>0</td>\n",
       "      <td>1</td>\n",
       "      <td>0</td>\n",
       "      <td>0</td>\n",
       "      <td>0</td>\n",
       "      <td>0</td>\n",
       "      <td>0</td>\n",
       "      <td>1</td>\n",
       "      <td>0</td>\n",
       "      <td>0</td>\n",
       "      <td>0</td>\n",
       "    </tr>\n",
       "    <tr>\n",
       "      <th>4</th>\n",
       "      <td>0.049412</td>\n",
       "      <td>2</td>\n",
       "      <td>1</td>\n",
       "      <td>0</td>\n",
       "      <td>0</td>\n",
       "      <td>1</td>\n",
       "      <td>0</td>\n",
       "      <td>1</td>\n",
       "      <td>0</td>\n",
       "      <td>0</td>\n",
       "      <td>1</td>\n",
       "      <td>0</td>\n",
       "      <td>0</td>\n",
       "      <td>0</td>\n",
       "      <td>0</td>\n",
       "      <td>0</td>\n",
       "      <td>1</td>\n",
       "      <td>0</td>\n",
       "      <td>0</td>\n",
       "      <td>0</td>\n",
       "    </tr>\n",
       "  </tbody>\n",
       "</table>\n",
       "</div>"
      ],
      "text/plain": [
       "   tree_dbh  health  curb_loc_OnCurb  steward_3or4  steward_4orMore  \\\n",
       "0  0.007059       1                1             0                0   \n",
       "1  0.049412       1                1             0                0   \n",
       "2  0.007059       2                1             0                0   \n",
       "3  0.023529       2                1             0                0   \n",
       "4  0.049412       2                1             0                0   \n",
       "\n",
       "   steward_No  guards_Helpful  guards_No  guards_Unsure  sidewalk_NoDamage  \\\n",
       "0           1               0          1              0                  1   \n",
       "1           1               0          1              0                  0   \n",
       "2           0               0          1              0                  0   \n",
       "3           1               0          1              0                  0   \n",
       "4           1               0          1              0                  0   \n",
       "\n",
       "   root_stone_Yes  root_grate_Yes  trunk_wire_Yes  trnk_light_Yes  \\\n",
       "0               0               0               0               0   \n",
       "1               1               0               0               0   \n",
       "2               0               0               0               0   \n",
       "3               1               0               0               0   \n",
       "4               1               0               0               0   \n",
       "\n",
       "   brch_light_Yes  brch_other_Yes  borough_Brooklyn  borough_Manhattan  \\\n",
       "0               0               0                 0                  0   \n",
       "1               0               0                 0                  0   \n",
       "2               0               0                 1                  0   \n",
       "3               0               0                 1                  0   \n",
       "4               0               0                 1                  0   \n",
       "\n",
       "   borough_Queens  borough_Staten Island  \n",
       "0               1                      0  \n",
       "1               1                      0  \n",
       "2               0                      0  \n",
       "3               0                      0  \n",
       "4               0                      0  "
      ]
     },
     "execution_count": 2,
     "metadata": {},
     "output_type": "execute_result"
    }
   ],
   "source": [
    "# Загрузка подготовленного датасета\n",
    "df = pd.read_csv('final_df.csv', sep=';')\n",
    "df.head()"
   ]
  },
  {
   "cell_type": "code",
   "execution_count": 3,
   "metadata": {
    "execution": {
     "iopub.execute_input": "2025-02-06T09:08:56.918245Z",
     "iopub.status.busy": "2025-02-06T09:08:56.917763Z",
     "iopub.status.idle": "2025-02-06T09:08:56.968865Z",
     "shell.execute_reply": "2025-02-06T09:08:56.967794Z",
     "shell.execute_reply.started": "2025-02-06T09:08:56.918191Z"
    }
   },
   "outputs": [],
   "source": [
    "# Разделение датасета на признаки и таргет\n",
    "X = df.drop('health', axis=1)\n",
    "y = df['health']"
   ]
  },
  {
   "cell_type": "code",
   "execution_count": 5,
   "metadata": {
    "execution": {
     "iopub.execute_input": "2025-02-06T09:10:00.597723Z",
     "iopub.status.busy": "2025-02-06T09:10:00.597338Z",
     "iopub.status.idle": "2025-02-06T09:10:00.611226Z",
     "shell.execute_reply": "2025-02-06T09:10:00.610435Z",
     "shell.execute_reply.started": "2025-02-06T09:10:00.597695Z"
    }
   },
   "outputs": [],
   "source": [
    "le_target = LabelEncoder()\n",
    "y = le_target.fit_transform(y)"
   ]
  },
  {
   "cell_type": "code",
   "execution_count": 4,
   "metadata": {
    "execution": {
     "iopub.execute_input": "2025-02-06T09:09:14.734160Z",
     "iopub.status.busy": "2025-02-06T09:09:14.733779Z",
     "iopub.status.idle": "2025-02-06T09:09:15.049347Z",
     "shell.execute_reply": "2025-02-06T09:09:15.048129Z",
     "shell.execute_reply.started": "2025-02-06T09:09:14.734131Z"
    }
   },
   "outputs": [],
   "source": [
    "# Разделение выборки на тренировочную и тестовую\n",
    "X_train, X_test, y_train, y_test = train_test_split(X, y, stratify=y, random_state=42)"
   ]
  },
  {
   "cell_type": "code",
   "execution_count": 6,
   "metadata": {
    "execution": {
     "iopub.execute_input": "2025-02-06T09:10:07.449055Z",
     "iopub.status.busy": "2025-02-06T09:10:07.448756Z",
     "iopub.status.idle": "2025-02-06T09:10:07.461524Z",
     "shell.execute_reply": "2025-02-06T09:10:07.460695Z",
     "shell.execute_reply.started": "2025-02-06T09:10:07.449032Z"
    }
   },
   "outputs": [
    {
     "data": {
      "text/html": [
       "<div>\n",
       "<style scoped>\n",
       "    .dataframe tbody tr th:only-of-type {\n",
       "        vertical-align: middle;\n",
       "    }\n",
       "\n",
       "    .dataframe tbody tr th {\n",
       "        vertical-align: top;\n",
       "    }\n",
       "\n",
       "    .dataframe thead th {\n",
       "        text-align: right;\n",
       "    }\n",
       "</style>\n",
       "<table border=\"1\" class=\"dataframe\">\n",
       "  <thead>\n",
       "    <tr style=\"text-align: right;\">\n",
       "      <th></th>\n",
       "      <th>tree_dbh</th>\n",
       "      <th>curb_loc_OnCurb</th>\n",
       "      <th>steward_3or4</th>\n",
       "      <th>steward_4orMore</th>\n",
       "      <th>steward_No</th>\n",
       "      <th>guards_Helpful</th>\n",
       "      <th>guards_No</th>\n",
       "      <th>guards_Unsure</th>\n",
       "      <th>sidewalk_NoDamage</th>\n",
       "      <th>root_stone_Yes</th>\n",
       "      <th>root_grate_Yes</th>\n",
       "      <th>trunk_wire_Yes</th>\n",
       "      <th>trnk_light_Yes</th>\n",
       "      <th>brch_light_Yes</th>\n",
       "      <th>brch_other_Yes</th>\n",
       "      <th>borough_Brooklyn</th>\n",
       "      <th>borough_Manhattan</th>\n",
       "      <th>borough_Queens</th>\n",
       "      <th>borough_Staten Island</th>\n",
       "    </tr>\n",
       "  </thead>\n",
       "  <tbody>\n",
       "    <tr>\n",
       "      <th>177416</th>\n",
       "      <td>0.007059</td>\n",
       "      <td>1</td>\n",
       "      <td>0</td>\n",
       "      <td>0</td>\n",
       "      <td>1</td>\n",
       "      <td>0</td>\n",
       "      <td>1</td>\n",
       "      <td>0</td>\n",
       "      <td>1</td>\n",
       "      <td>0</td>\n",
       "      <td>0</td>\n",
       "      <td>0</td>\n",
       "      <td>0</td>\n",
       "      <td>0</td>\n",
       "      <td>0</td>\n",
       "      <td>0</td>\n",
       "      <td>0</td>\n",
       "      <td>1</td>\n",
       "      <td>0</td>\n",
       "    </tr>\n",
       "    <tr>\n",
       "      <th>100304</th>\n",
       "      <td>0.032941</td>\n",
       "      <td>1</td>\n",
       "      <td>0</td>\n",
       "      <td>0</td>\n",
       "      <td>1</td>\n",
       "      <td>0</td>\n",
       "      <td>1</td>\n",
       "      <td>0</td>\n",
       "      <td>1</td>\n",
       "      <td>0</td>\n",
       "      <td>0</td>\n",
       "      <td>0</td>\n",
       "      <td>0</td>\n",
       "      <td>0</td>\n",
       "      <td>1</td>\n",
       "      <td>0</td>\n",
       "      <td>0</td>\n",
       "      <td>1</td>\n",
       "      <td>0</td>\n",
       "    </tr>\n",
       "    <tr>\n",
       "      <th>354938</th>\n",
       "      <td>0.002353</td>\n",
       "      <td>1</td>\n",
       "      <td>0</td>\n",
       "      <td>0</td>\n",
       "      <td>0</td>\n",
       "      <td>0</td>\n",
       "      <td>0</td>\n",
       "      <td>0</td>\n",
       "      <td>1</td>\n",
       "      <td>0</td>\n",
       "      <td>0</td>\n",
       "      <td>0</td>\n",
       "      <td>0</td>\n",
       "      <td>0</td>\n",
       "      <td>0</td>\n",
       "      <td>1</td>\n",
       "      <td>0</td>\n",
       "      <td>0</td>\n",
       "      <td>0</td>\n",
       "    </tr>\n",
       "    <tr>\n",
       "      <th>458057</th>\n",
       "      <td>0.058824</td>\n",
       "      <td>1</td>\n",
       "      <td>0</td>\n",
       "      <td>0</td>\n",
       "      <td>1</td>\n",
       "      <td>0</td>\n",
       "      <td>1</td>\n",
       "      <td>0</td>\n",
       "      <td>0</td>\n",
       "      <td>1</td>\n",
       "      <td>0</td>\n",
       "      <td>0</td>\n",
       "      <td>0</td>\n",
       "      <td>0</td>\n",
       "      <td>0</td>\n",
       "      <td>1</td>\n",
       "      <td>0</td>\n",
       "      <td>0</td>\n",
       "      <td>0</td>\n",
       "    </tr>\n",
       "    <tr>\n",
       "      <th>345866</th>\n",
       "      <td>0.030588</td>\n",
       "      <td>1</td>\n",
       "      <td>0</td>\n",
       "      <td>0</td>\n",
       "      <td>1</td>\n",
       "      <td>0</td>\n",
       "      <td>1</td>\n",
       "      <td>0</td>\n",
       "      <td>0</td>\n",
       "      <td>0</td>\n",
       "      <td>0</td>\n",
       "      <td>0</td>\n",
       "      <td>0</td>\n",
       "      <td>0</td>\n",
       "      <td>0</td>\n",
       "      <td>1</td>\n",
       "      <td>0</td>\n",
       "      <td>0</td>\n",
       "      <td>0</td>\n",
       "    </tr>\n",
       "  </tbody>\n",
       "</table>\n",
       "</div>"
      ],
      "text/plain": [
       "        tree_dbh  curb_loc_OnCurb  steward_3or4  steward_4orMore  steward_No  \\\n",
       "177416  0.007059                1             0                0           1   \n",
       "100304  0.032941                1             0                0           1   \n",
       "354938  0.002353                1             0                0           0   \n",
       "458057  0.058824                1             0                0           1   \n",
       "345866  0.030588                1             0                0           1   \n",
       "\n",
       "        guards_Helpful  guards_No  guards_Unsure  sidewalk_NoDamage  \\\n",
       "177416               0          1              0                  1   \n",
       "100304               0          1              0                  1   \n",
       "354938               0          0              0                  1   \n",
       "458057               0          1              0                  0   \n",
       "345866               0          1              0                  0   \n",
       "\n",
       "        root_stone_Yes  root_grate_Yes  trunk_wire_Yes  trnk_light_Yes  \\\n",
       "177416               0               0               0               0   \n",
       "100304               0               0               0               0   \n",
       "354938               0               0               0               0   \n",
       "458057               1               0               0               0   \n",
       "345866               0               0               0               0   \n",
       "\n",
       "        brch_light_Yes  brch_other_Yes  borough_Brooklyn  borough_Manhattan  \\\n",
       "177416               0               0                 0                  0   \n",
       "100304               0               1                 0                  0   \n",
       "354938               0               0                 1                  0   \n",
       "458057               0               0                 1                  0   \n",
       "345866               0               0                 1                  0   \n",
       "\n",
       "        borough_Queens  borough_Staten Island  \n",
       "177416               1                      0  \n",
       "100304               1                      0  \n",
       "354938               0                      0  \n",
       "458057               0                      0  \n",
       "345866               0                      0  "
      ]
     },
     "execution_count": 6,
     "metadata": {},
     "output_type": "execute_result"
    }
   ],
   "source": [
    "X_train.head()"
   ]
  },
  {
   "cell_type": "code",
   "execution_count": 7,
   "metadata": {
    "execution": {
     "iopub.execute_input": "2025-02-06T09:10:15.449068Z",
     "iopub.status.busy": "2025-02-06T09:10:15.448649Z",
     "iopub.status.idle": "2025-02-06T09:10:15.584673Z",
     "shell.execute_reply": "2025-02-06T09:10:15.583404Z",
     "shell.execute_reply.started": "2025-02-06T09:10:15.449034Z"
    }
   },
   "outputs": [],
   "source": [
    "# Рассчитаем веса классов, т.к. присутсвует дизбаланс классов в таргетной переменной\n",
    "class_counts = Counter(y_train)\n",
    "total_samples = sum(class_counts.values())\n",
    "class_weights = {cls: total_samples / count for cls, count in class_counts.items()}\n",
    "weights = torch.tensor([class_weights[i] for i in range(len(class_counts))], dtype=torch.float32)"
   ]
  },
  {
   "cell_type": "code",
   "execution_count": 10,
   "metadata": {
    "execution": {
     "iopub.execute_input": "2025-02-06T09:11:14.431549Z",
     "iopub.status.busy": "2025-02-06T09:11:14.431182Z",
     "iopub.status.idle": "2025-02-06T09:11:14.436280Z",
     "shell.execute_reply": "2025-02-06T09:11:14.435458Z",
     "shell.execute_reply.started": "2025-02-06T09:11:14.431517Z"
    }
   },
   "outputs": [],
   "source": [
    "# Создание кастомного класса для датасета\n",
    "class CustomDataset(Dataset):\n",
    "    def __init__(self, X, y):\n",
    "        self.X = torch.tensor(np.array(X), dtype=torch.float32)\n",
    "        self.y = torch.tensor(np.array(y), dtype=torch.long)\n",
    "    \n",
    "    def __len__(self):\n",
    "        return len(self.y)\n",
    "    \n",
    "    def __getitem__(self, idx):\n",
    "        return self.X[idx], self.y[idx]"
   ]
  },
  {
   "cell_type": "code",
   "execution_count": 11,
   "metadata": {
    "execution": {
     "iopub.execute_input": "2025-02-06T09:11:16.776324Z",
     "iopub.status.busy": "2025-02-06T09:11:16.776017Z",
     "iopub.status.idle": "2025-02-06T09:11:16.881529Z",
     "shell.execute_reply": "2025-02-06T09:11:16.880814Z",
     "shell.execute_reply.started": "2025-02-06T09:11:16.776297Z"
    }
   },
   "outputs": [],
   "source": [
    "# Определение тренировочного и тестового датасета\n",
    "train_dataset = CustomDataset(X_train, y_train)\n",
    "test_dataset = CustomDataset(X_test, y_test)"
   ]
  },
  {
   "cell_type": "code",
   "execution_count": 12,
   "metadata": {
    "execution": {
     "iopub.execute_input": "2025-02-06T09:11:19.915428Z",
     "iopub.status.busy": "2025-02-06T09:11:19.915065Z",
     "iopub.status.idle": "2025-02-06T09:11:19.919306Z",
     "shell.execute_reply": "2025-02-06T09:11:19.918563Z",
     "shell.execute_reply.started": "2025-02-06T09:11:19.915360Z"
    }
   },
   "outputs": [],
   "source": [
    "# Создание тренировочного и тестового лоадеров, для обучения DL-модели\n",
    "train_loader = DataLoader(train_dataset, batch_size=64, shuffle=True, pin_memory=True)\n",
    "test_loader = DataLoader(test_dataset, batch_size=64, shuffle=False, pin_memory=True)"
   ]
  },
  {
   "cell_type": "markdown",
   "metadata": {},
   "source": [
    "## 📌 Обоснование выбора архитектуры MLP\n",
    "\n",
    "Для решения задачи классификации состояния деревьев (3 класса: *Good, Fair, Poor*) была выбрана многослойная перцептронная (MLP) модель.  \n",
    "Ниже приведены основные аргументы в пользу этого выбора:\n",
    "\n",
    "### 🔹 Почему MLP?  \n",
    "✅ **Подходит для табличных данных**: В отличие от сверточных (CNN) или рекуррентных (RNN) сетей, MLP хорошо работает с табличными признаками.  \n",
    "✅ **Обрабатывает числовые и категориальные признаки**: Полносвязные слои позволяют эффективно обучать зависимости в данных.  \n",
    "\n",
    "### 🔹 Архитектура модели  \n",
    "- **4 полносвязных слоя** – достаточная глубина для улавливания сложных зависимостей, но без избыточной сложности.  \n",
    "- **Dropout** – предотвращает переобучение за счет случайного отключения нейронов во время обучения.  \n",
    "- **Активация ReLU** – ускоряет сходимость модели, устраняя проблему исчезающего градиента.  \n",
    "- **Функция потерь CrossEntropyLoss** – стандартный выбор для многоклассовой классификации.  \n",
    "- **Оптимизатор Adam** – адаптивно настраивает скорости обучения, улучшая сходимость.  \n",
    "\n",
    "### 🔹 Итог  \n",
    "MLP – это простой, но эффективный выбор для классификации деревьев по табличным данным. Архитектура модели сбалансирована для точности и скорости обучения."
   ]
  },
  {
   "cell_type": "code",
   "execution_count": 29,
   "metadata": {
    "execution": {
     "iopub.execute_input": "2025-02-06T09:31:15.560698Z",
     "iopub.status.busy": "2025-02-06T09:31:15.560228Z",
     "iopub.status.idle": "2025-02-06T09:31:15.569401Z",
     "shell.execute_reply": "2025-02-06T09:31:15.568340Z",
     "shell.execute_reply.started": "2025-02-06T09:31:15.560657Z"
    }
   },
   "outputs": [],
   "source": [
    "# Определение архитектуры модели\n",
    "class SimpleMLPModel(nn.Module):\n",
    "    def __init__(self, input_dim, output_dim):\n",
    "        super(SimpleMLPModel, self).__init__()\n",
    "        self.fc1 = nn.Linear(input_dim, 256)\n",
    "        self.bn1 = nn.BatchNorm1d(256)\n",
    "        self.fc2 = nn.Linear(256, 128)\n",
    "        self.bn2 = nn.BatchNorm1d(128)\n",
    "        self.fc3 = nn.Linear(128, 64)\n",
    "        self.bn3 = nn.BatchNorm1d(64)\n",
    "        self.fc4 = nn.Linear(64, output_dim)\n",
    "        self.dropout = nn.Dropout(0.4)\n",
    "\n",
    "    def forward(self, x):\n",
    "        x = F.relu(self.bn1(self.fc1(x)))\n",
    "        x = self.dropout(x)\n",
    "        x = F.relu(self.bn2(self.fc2(x)))\n",
    "        x = self.dropout(x)\n",
    "        x = F.relu(self.bn3(self.fc3(x)))\n",
    "        x = self.dropout(x)\n",
    "        x = self.fc4(x)\n",
    "        return x"
   ]
  },
  {
   "cell_type": "code",
   "execution_count": 34,
   "metadata": {
    "execution": {
     "iopub.execute_input": "2025-02-06T09:34:31.482005Z",
     "iopub.status.busy": "2025-02-06T09:34:31.481713Z",
     "iopub.status.idle": "2025-02-06T09:34:31.488145Z",
     "shell.execute_reply": "2025-02-06T09:34:31.487417Z",
     "shell.execute_reply.started": "2025-02-06T09:34:31.481982Z"
    }
   },
   "outputs": [],
   "source": [
    "# Определение параметров модели и обучения\n",
    "device = torch.device(\"cuda:0\" if torch.cuda.is_available() else \"cpu\")\n",
    "input_dim = X_train.shape[1]\n",
    "output_dim = len(np.unique(y))"
   ]
  },
  {
   "cell_type": "code",
   "execution_count": 35,
   "metadata": {
    "execution": {
     "iopub.execute_input": "2025-02-06T09:34:39.371235Z",
     "iopub.status.busy": "2025-02-06T09:34:39.370945Z",
     "iopub.status.idle": "2025-02-06T09:34:39.376102Z",
     "shell.execute_reply": "2025-02-06T09:34:39.375456Z",
     "shell.execute_reply.started": "2025-02-06T09:34:39.371214Z"
    }
   },
   "outputs": [
    {
     "data": {
      "text/plain": [
       "device(type='cuda', index=0)"
      ]
     },
     "execution_count": 35,
     "metadata": {},
     "output_type": "execute_result"
    }
   ],
   "source": [
    "# Просмотр девайса\n",
    "device"
   ]
  },
  {
   "cell_type": "code",
   "execution_count": 36,
   "metadata": {
    "execution": {
     "iopub.execute_input": "2025-02-06T09:34:48.338490Z",
     "iopub.status.busy": "2025-02-06T09:34:48.338170Z",
     "iopub.status.idle": "2025-02-06T09:34:48.345882Z",
     "shell.execute_reply": "2025-02-06T09:34:48.344987Z",
     "shell.execute_reply.started": "2025-02-06T09:34:48.338464Z"
    }
   },
   "outputs": [],
   "source": [
    "# Определение модели, функции потерь и оптимизатора\n",
    "model = SimpleMLPModel(input_dim, output_dim).to(device)\n",
    "weights = weights.to(device)\n",
    "criterion = nn.CrossEntropyLoss(weight=weights)\n",
    "optimizer = optim.Adam(model.parameters(), lr=0.001)"
   ]
  },
  {
   "cell_type": "code",
   "execution_count": 44,
   "metadata": {
    "execution": {
     "iopub.execute_input": "2025-02-06T09:36:26.163913Z",
     "iopub.status.busy": "2025-02-06T09:36:26.163597Z",
     "iopub.status.idle": "2025-02-06T09:36:26.169360Z",
     "shell.execute_reply": "2025-02-06T09:36:26.168424Z",
     "shell.execute_reply.started": "2025-02-06T09:36:26.163889Z"
    }
   },
   "outputs": [],
   "source": [
    "# Обучение модели\n",
    "def train_model(model, criterion, optimizer, train_loader, epochs=20):\n",
    "    \"\"\"Function for train DL-model\"\"\"\n",
    "    model.train()\n",
    "    for epoch in range(epochs):\n",
    "        total_loss = 0\n",
    "        for X_batch, y_batch in train_loader:\n",
    "            X_batch, y_batch = X_batch.to(device), y_batch.to(device)\n",
    "            optimizer.zero_grad()\n",
    "            outputs = model(X_batch)\n",
    "            loss = criterion(outputs, y_batch)\n",
    "            loss.backward()\n",
    "            optimizer.step()\n",
    "            total_loss += loss.item()\n",
    "        print(f\"Epoch {epoch+1}/{epochs}, Loss: {total_loss/len(train_loader):.4f}\")"
   ]
  },
  {
   "cell_type": "code",
   "execution_count": 45,
   "metadata": {
    "execution": {
     "iopub.execute_input": "2025-02-06T09:36:35.962990Z",
     "iopub.status.busy": "2025-02-06T09:36:35.962697Z",
     "iopub.status.idle": "2025-02-06T09:47:14.528151Z",
     "shell.execute_reply": "2025-02-06T09:47:14.527164Z",
     "shell.execute_reply.started": "2025-02-06T09:36:35.962967Z"
    }
   },
   "outputs": [
    {
     "name": "stdout",
     "output_type": "stream",
     "text": [
      "Epoch 1/30, Loss: 1.0839\n",
      "Epoch 2/30, Loss: 1.0714\n",
      "Epoch 3/30, Loss: 1.0689\n",
      "Epoch 4/30, Loss: 1.0674\n",
      "Epoch 5/30, Loss: 1.0668\n",
      "Epoch 6/30, Loss: 1.0660\n",
      "Epoch 7/30, Loss: 1.0658\n",
      "Epoch 8/30, Loss: 1.0652\n",
      "Epoch 9/30, Loss: 1.0646\n",
      "Epoch 10/30, Loss: 1.0646\n",
      "Epoch 11/30, Loss: 1.0643\n",
      "Epoch 12/30, Loss: 1.0643\n",
      "Epoch 13/30, Loss: 1.0642\n",
      "Epoch 14/30, Loss: 1.0638\n",
      "Epoch 15/30, Loss: 1.0637\n",
      "Epoch 16/30, Loss: 1.0629\n",
      "Epoch 17/30, Loss: 1.0631\n",
      "Epoch 18/30, Loss: 1.0627\n",
      "Epoch 19/30, Loss: 1.0629\n",
      "Epoch 20/30, Loss: 1.0633\n",
      "Epoch 21/30, Loss: 1.0625\n",
      "Epoch 22/30, Loss: 1.0628\n",
      "Epoch 23/30, Loss: 1.0622\n",
      "Epoch 24/30, Loss: 1.0626\n",
      "Epoch 25/30, Loss: 1.0619\n",
      "Epoch 26/30, Loss: 1.0622\n",
      "Epoch 27/30, Loss: 1.0619\n",
      "Epoch 28/30, Loss: 1.0622\n",
      "Epoch 29/30, Loss: 1.0626\n",
      "Epoch 30/30, Loss: 1.0616\n"
     ]
    }
   ],
   "source": [
    "# Обучение модели\n",
    "train_model(model, criterion, optimizer, train_loader, epochs=30)"
   ]
  },
  {
   "cell_type": "code",
   "execution_count": 46,
   "metadata": {
    "execution": {
     "iopub.execute_input": "2025-02-06T09:47:26.607187Z",
     "iopub.status.busy": "2025-02-06T09:47:26.606864Z",
     "iopub.status.idle": "2025-02-06T09:47:26.613133Z",
     "shell.execute_reply": "2025-02-06T09:47:26.612249Z",
     "shell.execute_reply.started": "2025-02-06T09:47:26.607158Z"
    }
   },
   "outputs": [],
   "source": [
    "# Оценка модели\n",
    "def evaluate_model(model, test_loader):\n",
    "    model.eval()\n",
    "    y_true, y_pred = [], []\n",
    "    with torch.no_grad():\n",
    "        for X_batch, y_batch in test_loader:\n",
    "            X_batch, y_batch = X_batch.to(device), y_batch.to(device)\n",
    "            outputs = model(X_batch)\n",
    "            _, preds = torch.max(outputs, 1)\n",
    "            y_true.extend(y_batch.cpu().numpy())\n",
    "            y_pred.extend(preds.cpu().numpy())\n",
    "    \n",
    "    print(\"Classification Report:\")\n",
    "    print(classification_report(y_true, y_pred, target_names=le_target.classes_.astype(str)))\n",
    "    \n",
    "    cm = confusion_matrix(y_true, y_pred)\n",
    "    sns.heatmap(cm, annot=True, fmt='d', cmap='Blues', xticklabels=le_target.classes_, yticklabels=le_target.classes_)\n",
    "    plt.xlabel(\"Predicted\")\n",
    "    plt.ylabel(\"Actual\")\n",
    "    plt.show()"
   ]
  },
  {
   "cell_type": "code",
   "execution_count": 47,
   "metadata": {
    "execution": {
     "iopub.execute_input": "2025-02-06T09:47:28.936146Z",
     "iopub.status.busy": "2025-02-06T09:47:28.935802Z",
     "iopub.status.idle": "2025-02-06T09:47:32.223485Z",
     "shell.execute_reply": "2025-02-06T09:47:32.222562Z",
     "shell.execute_reply.started": "2025-02-06T09:47:28.936117Z"
    }
   },
   "outputs": [
    {
     "name": "stdout",
     "output_type": "stream",
     "text": [
      "Classification Report:\n",
      "              precision    recall  f1-score   support\n",
      "\n",
      "           0       0.07      0.44      0.13      6705\n",
      "           1       0.19      0.19      0.19     24126\n",
      "           2       0.85      0.64      0.73    132212\n",
      "\n",
      "    accuracy                           0.57    163043\n",
      "   macro avg       0.37      0.42      0.35    163043\n",
      "weighted avg       0.72      0.57      0.63    163043\n",
      "\n"
     ]
    },
    {
     "data": {
      "image/png": "[encoded data removed]",
      "text/plain": [
       "<Figure size 640x480 with 2 Axes>"
      ]
     },
     "metadata": {},
     "output_type": "display_data"
    }
   ],
   "source": [
    "evaluate_model(model, test_loader)"
   ]
  },
  {
   "cell_type": "code",
   "execution_count": 48,
   "metadata": {
    "execution": {
     "iopub.execute_input": "2025-02-06T09:50:05.441153Z",
     "iopub.status.busy": "2025-02-06T09:50:05.440704Z",
     "iopub.status.idle": "2025-02-06T09:50:05.455879Z",
     "shell.execute_reply": "2025-02-06T09:50:05.454882Z",
     "shell.execute_reply.started": "2025-02-06T09:50:05.441117Z"
    }
   },
   "outputs": [],
   "source": [
    "# Сохраняем обученную модель для инференса\n",
    "torch.save(model, 'NY_2015_model.pth')"
   ]
  },
  {
   "cell_type": "code",
   "execution_count": null,
   "metadata": {},
   "outputs": [],
   "source": []
  }
 ],
 "metadata": {
  "kaggle": {
   "accelerator": "gpu",
   "dataSources": [
    {
     "datasetId": 6608076,
     "sourceId": 10669321,
     "sourceType": "datasetVersion"
    }
   ],
   "dockerImageVersionId": 30840,
   "isGpuEnabled": true,
   "isInternetEnabled": true,
   "language": "python",
   "sourceType": "notebook"
  },
  "kernelspec": {
   "display_name": "Python 3 (ipykernel)",
   "language": "python",
   "name": "python3"
  },
  "language_info": {
   "codemirror_mode": {
    "name": "ipython",
    "version": 3
   },
   "file_extension": ".py",
   "mimetype": "text/x-python",
   "name": "python",
   "nbconvert_exporter": "python",
   "pygments_lexer": "ipython3",
   "version": "3.11.5"
  }
 },
 "nbformat": 4,
 "nbformat_minor": 4
}
